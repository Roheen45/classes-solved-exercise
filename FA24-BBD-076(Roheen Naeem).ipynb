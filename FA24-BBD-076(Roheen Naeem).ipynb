{
 "cells": [
  {
   "cell_type": "code",
   "execution_count": 1,
   "id": "a5b6c7b2-0185-41ed-ad74-e5c622459246",
   "metadata": {},
   "outputs": [
    {
     "name": "stdout",
     "output_type": "stream",
     "text": [
      "roheen\n",
      "19\n",
      "lahore\n",
      "name : roheen ,age : 19 city : lahore\n"
     ]
    }
   ],
   "source": [
    "#question :1\n",
    "class person:\n",
    "    def __init__(self,name,age,city):\n",
    "        self.name= name\n",
    "        self.age= age\n",
    "        self.city=city\n",
    "\n",
    "    def intro(self):\n",
    "        print(f\"name : {self.name} ,age : {self.age} city : {self.city}\")\n",
    "\n",
    "the_person=person(\"roheen\",19,\"lahore\")\n",
    "\n",
    "print(the_person.name)\n",
    "print(the_person.age)\n",
    "print(the_person.city)\n",
    "the_person.intro()"
   ]
  },
  {
   "cell_type": "code",
   "execution_count": 2,
   "id": "c701a50a-4da3-4c75-ad76-bd95e4e7029f",
   "metadata": {},
   "outputs": [
    {
     "name": "stdout",
     "output_type": "stream",
     "text": [
      "corolla\n",
      "altis\n",
      "2023\n"
     ]
    }
   ],
   "source": [
    "#question : 2\n",
    "class car:\n",
    "    def __init__(self,make,model,year):\n",
    "        self.make=make\n",
    "        self.model=model\n",
    "        self.year=year\n",
    "        def intro(self):\n",
    "            print(f\"name{self.make},age{self.model},city{self.year}\")\n",
    "\n",
    "the_car=car(\"corolla\",\"altis\",2023)\n",
    "\n",
    "print(the_car.make)\n",
    "print(the_car.model)\n",
    "print(the_car.year)"
   ]
  },
  {
   "cell_type": "code",
   "execution_count": 6,
   "id": "64d32362-7d52-4bef-88f7-01bf8ec06ba3",
   "metadata": {},
   "outputs": [
    {
     "name": "stdout",
     "output_type": "stream",
     "text": [
      "area:  78.539816\n",
      "area:  31.415927\n"
     ]
    }
   ],
   "source": [
    "#question : 03\n",
    "import  math\n",
    "class circle :\n",
    "    def __init__ (self,radius):\n",
    "        self.radius=radius\n",
    "    def area(self):\n",
    "         return math.pi* self.radius**2\n",
    "    def circumference(self):\n",
    "        return 2 *math.pi* self.radius\n",
    "\n",
    "my_circle=circle(5)\n",
    "print(f\"area: {my_circle.area(): 2f}\")\n",
    "print(f\"area: {my_circle.circumference(): 2f}\")"
   ]
  },
  {
   "cell_type": "code",
   "execution_count": 14,
   "id": "a49de303-18b8-4ca3-a591-6b2cfe23a1cd",
   "metadata": {},
   "outputs": [
    {
     "name": "stdout",
     "output_type": "stream",
     "text": [
      "Area of resctangle=56.28\n",
      "Perimeter of rectangle=30.200000000000003\n"
     ]
    }
   ],
   "source": [
    "#Question no. 4\n",
    "class rectangle:\n",
    "    def __init__(self,length,width):\n",
    "        self.length=length\n",
    "        self.width=width\n",
    "    def area(self):\n",
    "        print(f\"Area of resctangle={self.length*self.width}\")\n",
    "    def perimeter(self):\n",
    "        print(f\"Perimeter of rectangle={2*(self.length+self.width)}\")\n",
    "my_math=rectangle(6.7,8.4)\n",
    "my_math.area()\n",
    "my_math.perimeter()\n"
   ]
  },
  {
   "cell_type": "code",
   "execution_count": 17,
   "id": "769a9ee9-f192-4aee-8c39-b1449baf4c7e",
   "metadata": {},
   "outputs": [
    {
     "name": "stdout",
     "output_type": "stream",
     "text": [
      "Average Marks: 56.2\n"
     ]
    }
   ],
   "source": [
    " # question 5\n",
    "class Student:\n",
    "    def __init__(self,name,roll_no,marks):\n",
    "        self.name= name\n",
    "        self.roll_no= roll_no\n",
    "        self.marks=marks\n",
    "    def average(self):\n",
    "        print(f\"Average Marks:\" , sum(self.marks)/len(self.marks))\n",
    "student_1=Student('Roheen',6754,[23,89,90,12,67])\n",
    "average_marks=student_1.average()\n",
    "    \n"
   ]
  },
  {
   "cell_type": "code",
   "execution_count": 9,
   "id": "7e56ced0-24b4-4a4a-bbfa-5566282a5237",
   "metadata": {},
   "outputs": [
    {
     "name": "stdout",
     "output_type": "stream",
     "text": [
      "kite runner is written\n",
      "title : kite runner, author : khaled hussaini , publication_year : 2003\n"
     ]
    }
   ],
   "source": [
    "# question 6 \n",
    "class book :\n",
    "    def __init__(self,title,author,publication_year):\n",
    "        self.title=title\n",
    "        self.author=author\n",
    "        self.publication_year=publication_year\n",
    "    def written(self):\n",
    "        print(f\"{self.title} is written\")\n",
    "class novel(book):\n",
    "  def intro(self):\n",
    "      print(f\"title : {self.title}, author : {self.author} , publication_year : {self.publication_year}\")\n",
    "the_book=novel(\"kite runner\",\"khaled hussaini\",2003)\n",
    "the_book.written()\n",
    "the_book.intro()"
   ]
  },
  {
   "cell_type": "code",
   "execution_count": 13,
   "id": "7068ae50-598a-4a4a-b7f2-329b1f9ff577",
   "metadata": {},
   "outputs": [
    {
     "name": "stdout",
     "output_type": "stream",
     "text": [
      " name :Muhammad Ali, salary : 50000 , designation : software engineering\n"
     ]
    }
   ],
   "source": [
    "#question 7\n",
    "class employee:\n",
    "    def __init__(self,name,salary,designation):\n",
    "        self.name=name\n",
    "        self.salary=salary\n",
    "        self.designation=designation\n",
    "    def display_info(self):\n",
    "       print(f\" name :{self.name}, salary : {self.salary} , designation : { self.designation}\")\n",
    "the_employee=employee(\"Muhammad Ali\" , 50000 , \"software engineering\")\n",
    "the_employee.display_info()"
   ]
  },
  {
   "cell_type": "code",
   "execution_count": 18,
   "id": "457dc485-5fab-4866-a6cd-566eb06583e4",
   "metadata": {},
   "outputs": [
    {
     "name": "stdout",
     "output_type": "stream",
     "text": [
      "Withdrew: 900.New Balance:189100\n"
     ]
    }
   ],
   "source": [
    "# question 8\n",
    "class bank:\n",
    "    def __init__(self,name,account_number,balance):\n",
    "        self.name=name\n",
    "        self.account_number=account_number\n",
    "        self.balance=balance\n",
    "    def deposit (self,amount):\n",
    "        self.balance+=amount\n",
    "        print(f\"Deposited :{ amount}.New Balance : { self.balance}\")\n",
    "    def withdraw (self,amount):\n",
    "        if amount<=self.balance:\n",
    "            self.balance-=amount\n",
    "            print(f\"Withdrew: {amount}.New Balance:{self.balance}\")\n",
    "        else:\n",
    "            print(\"insufficient funds\")\n",
    "bank_account=bank(\"Roheen\",89865,190000)\n",
    "bank_account.withdraw(900)"
   ]
  },
  {
   "cell_type": "code",
   "execution_count": null,
   "id": "6edc11d2-6b75-499c-a863-cd0f19cb1982",
   "metadata": {},
   "outputs": [],
   "source": []
  }
 ],
 "metadata": {
  "kernelspec": {
   "display_name": "Python 3 (ipykernel)",
   "language": "python",
   "name": "python3"
  },
  "language_info": {
   "codemirror_mode": {
    "name": "ipython",
    "version": 3
   },
   "file_extension": ".py",
   "mimetype": "text/x-python",
   "name": "python",
   "nbconvert_exporter": "python",
   "pygments_lexer": "ipython3",
   "version": "3.12.4"
  }
 },
 "nbformat": 4,
 "nbformat_minor": 5
}
